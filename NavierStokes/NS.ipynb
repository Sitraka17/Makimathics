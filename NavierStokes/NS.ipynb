{
 "cells": [
  {
   "attachments": {},
   "cell_type": "markdown",
   "metadata": {},
   "source": [
    "The Navier-Stokes equations are a set of partial differential equations that describe the motion of fluids. They are widely used in engineering and physics to study the behavior of gases and liquids, such as the flow of air over an airplane wing or the movement of water through a pipe.\n",
    "\n",
    "Just by using the internet I'm happy to find that the NavierStokes equation have a Github!!! \n",
    "Here: https://github.com/barbagroup/CFDPython"
   ]
  },
  {
   "attachments": {},
   "cell_type": "markdown",
   "metadata": {},
   "source": [
    "The Navier-Stokes equations are expressed in the following form:\n",
    "\n",
    "$$\\rho \\left( \\frac{\\partial \\mathbf{v}}{\\partial t} + \\mathbf{v} \\cdot \\nabla \\mathbf{v} \\right) = -\\nabla p + \\mu \\nabla^2 \\mathbf{v} + \\mathbf{f}$$\n",
    "\n",
    "where:\n",
    "\n",
    "$\\rho$ is the density of the fluid\n",
    "$\\mathbf{v}$ is the velocity vector of the fluid\n",
    "$p$ is the pressure in the fluid\n",
    "$\\mu$ is the dynamic viscosity of the fluid\n",
    "$\\mathbf{f}$ is a body force per unit volume acting on the fluid, such as gravity\n",
    "The Navier-Stokes equations are used to model the behavior of fluids under a wide range of conditions and are an important tool in many areas of science and engineering, including fluid mechanics, meteorology, and oceanography."
   ]
  },
  {
   "attachments": {},
   "cell_type": "markdown",
   "metadata": {},
   "source": [
    "<<We announce the public release of online educational materials for self-learners of CFD using IPython Notebooks: the CFD Python Class!\n",
    "\n",
    "Update! (Jan.2014) CFD Python has a new home on GitHub>>>"
   ]
  },
  {
   "cell_type": "code",
   "execution_count": 1,
   "metadata": {},
   "outputs": [
    {
     "ename": "SyntaxError",
     "evalue": "incomplete input (1500675398.py, line 61)",
     "output_type": "error",
     "traceback": [
      "\u001b[1;36m  Input \u001b[1;32mIn [1]\u001b[1;36m\u001b[0m\n\u001b[1;33m    \u001b[0m\n\u001b[1;37m    ^\u001b[0m\n\u001b[1;31mSyntaxError\u001b[0m\u001b[1;31m:\u001b[0m incomplete input\n"
     ]
    }
   ],
   "source": []
  }
 ],
 "metadata": {
  "kernelspec": {
   "display_name": "Python 3",
   "language": "python",
   "name": "python3"
  },
  "language_info": {
   "codemirror_mode": {
    "name": "ipython",
    "version": 3
   },
   "file_extension": ".py",
   "mimetype": "text/x-python",
   "name": "python",
   "nbconvert_exporter": "python",
   "pygments_lexer": "ipython3",
   "version": "3.10.8 (tags/v3.10.8:aaaf517, Oct 11 2022, 16:50:30) [MSC v.1933 64 bit (AMD64)]"
  },
  "orig_nbformat": 4,
  "vscode": {
   "interpreter": {
    "hash": "eb17fa29bd96fd4ce5a6252c0a8f443f32b313fbe6a3474c9cf7084660dab2e5"
   }
  }
 },
 "nbformat": 4,
 "nbformat_minor": 2
}
